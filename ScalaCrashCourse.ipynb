{
 "cells": [
  {
   "cell_type": "code",
   "execution_count": 7,
   "metadata": {
    "collapsed": false
   },
   "outputs": [
    {
     "name": "stdout",
     "output_type": "stream",
     "text": [
      "Hola!\n"
     ]
    }
   ],
   "source": [
    "// Notice how Scala defines things backwards from other languages - you declare the name, then the type.\n",
    "val hello: String = \"Hola!\"\n",
    "println(hello)"
   ]
  },
  {
   "cell_type": "code",
   "execution_count": 8,
   "metadata": {
    "collapsed": false
   },
   "outputs": [
    {
     "name": "stdout",
     "output_type": "stream",
     "text": [
      "Hola! There!\n"
     ]
    }
   ],
   "source": [
    "// VARIABLES are mutable\n",
    "var helloThere: String = hello\n",
    "helloThere = hello + \" There!\"\n",
    "println(helloThere)"
   ]
  },
  {
   "cell_type": "code",
   "execution_count": 9,
   "metadata": {
    "collapsed": false
   },
   "outputs": [
    {
     "name": "stdout",
     "output_type": "stream",
     "text": [
      "Hola!There!\n"
     ]
    }
   ],
   "source": [
    "// One key objective of functional programming is to use immutable objects as often as possible.\n",
    "// Try to use operations that transform immutable objects into a new immutable object.\n",
    "// For example, we could have done the same thing like this:\n",
    "val immutableHelloThere = hello + \"There!\"\n",
    "println(immutableHelloThere)      "
   ]
  },
  {
   "cell_type": "code",
   "execution_count": 10,
   "metadata": {
    "collapsed": false
   },
   "outputs": [
    {
     "name": "stdout",
     "output_type": "stream",
     "text": [
      "Here is a mess: 1truea3.141592651234567890\n"
     ]
    }
   ],
   "source": [
    "// Some other types\n",
    "val numberOne : Int = 1                         //> numberOne  : Int = 1\n",
    "val truth : Boolean = true                      //> truth  : Boolean = true\n",
    "val letterA : Char = 'a'                        //> letterA  : Char = a\n",
    "val pi : Double = 3.14159265                    //> pi  : Double = 3.14159265\n",
    "val piSinglePrecision : Float = 3.14159265f     //> piSinglePrecision  : Float = 3.1415927\n",
    "val bigNumber : Long = 1234567890l              //> bigNumber  : Long = 1234567890\n",
    "val smallNumber : Byte = 127                    //> smallNumber  : Byte = 127\n",
    "  \n",
    "// String printing tricks\n",
    "// Concatenating stuff with +:\n",
    "println(\"Here is a mess: \" + numberOne + truth + letterA + pi + bigNumber)\n"
   ]
  },
  {
   "cell_type": "code",
   "execution_count": 11,
   "metadata": {
    "collapsed": false
   },
   "outputs": [
    {
     "name": "stdout",
     "output_type": "stream",
     "text": [
      "Pi is about 3.142\n"
     ]
    }
   ],
   "source": [
    "// printf style:\n",
    "println(f\"Pi is about $piSinglePrecision%.3f\") "
   ]
  },
  {
   "cell_type": "code",
   "execution_count": 12,
   "metadata": {
    "collapsed": false
   },
   "outputs": [
    {
     "name": "stdout",
     "output_type": "stream",
     "text": [
      "Zero padding on the left: 00001\n"
     ]
    }
   ],
   "source": [
    "println(f\"Zero padding on the left: $numberOne%05d\")"
   ]
  },
  {
   "cell_type": "code",
   "execution_count": 13,
   "metadata": {
    "collapsed": false
   },
   "outputs": [
    {
     "name": "stdout",
     "output_type": "stream",
     "text": [
      "I can use the s prefix to use variables like 1 true a\n"
     ]
    }
   ],
   "source": [
    "// Substituting in variables:\n",
    "println(s\"I can use the s prefix to use variables like $numberOne $truth $letterA\")"
   ]
  },
  {
   "cell_type": "code",
   "execution_count": 14,
   "metadata": {
    "collapsed": false
   },
   "outputs": [
    {
     "name": "stdout",
     "output_type": "stream",
     "text": [
      "The s prefix isn't limited to variables; I can include any expression. Like 3\n"
     ]
    }
   ],
   "source": [
    "// Substituting expressions (with curly brackets):\n",
    "  println(s\"The s prefix isn't limited to variables; I can include any expression. Like ${1+2}\")"
   ]
  },
  {
   "cell_type": "code",
   "execution_count": 16,
   "metadata": {
    "collapsed": false
   },
   "outputs": [
    {
     "name": "stdout",
     "output_type": "stream",
     "text": [
      "42\n"
     ]
    }
   ],
   "source": [
    "// Using regular expressions:\n",
    "val theUltimateAnswer: String = \"To life, the universe, and everything is 42.\"\n",
    "val pattern = \"\"\".* ([\\d]+).*\"\"\".r              //> pattern  : scala.util.matching.Regex = .* ([\\d]+).*\n",
    "val pattern(answerString) = theUltimateAnswer   //> answerString  : String = 42\n",
    "val answer = answerString.toInt                 //> answer  : Int = 42\n",
    "println(answer) "
   ]
  },
  {
   "cell_type": "code",
   "execution_count": 18,
   "metadata": {
    "collapsed": true
   },
   "outputs": [],
   "source": [
    "// Dealing with booleans\n",
    "val isGreater = 1 > 2\n",
    "val isLesser = 1 < 2                            //> isLesser  : Boolean = true\n",
    "val impossible = isGreater & isLesser           //> impossible  : Boolean = false\n",
    "val anotherWay = isGreater && isLesser          //> anotherWay  : Boolean = false\n",
    "\n",
    "val picard: String = \"Picard\"                   //> picard  : String = Picard\n",
    "val bestCaptain: String = \"Picard\"              //> bestCaptain  : String = Picard\n",
    "val isBest: Boolean = picard == bestCaptain "
   ]
  },
  {
   "cell_type": "code",
   "execution_count": 19,
   "metadata": {
    "collapsed": false
   },
   "outputs": [
    {
     "name": "stdout",
     "output_type": "stream",
     "text": [
      "The world makes sense.\n"
     ]
    }
   ],
   "source": [
    "// Flow control\n",
    "// If / else syntax\n",
    "if (1 > 3) println(\"Impossible!\") else println(\"The world makes sense.\")"
   ]
  },
  {
   "cell_type": "code",
   "execution_count": 20,
   "metadata": {
    "collapsed": false
   },
   "outputs": [
    {
     "name": "stdout",
     "output_type": "stream",
     "text": [
      "The world makes sense.\n"
     ]
    }
   ],
   "source": [
    "if (1 > 3) {\n",
    "    println(\"Impossible!\")\n",
    "} else {\n",
    "    println(\"The world makes sense.\")\n",
    "}"
   ]
  },
  {
   "cell_type": "code",
   "execution_count": 21,
   "metadata": {
    "collapsed": false
   },
   "outputs": [
    {
     "name": "stdout",
     "output_type": "stream",
     "text": [
      "Three\n"
     ]
    }
   ],
   "source": [
    "// Matching - like switch in other languages:\n",
    "val number = 3                                  //> number  : Int = 3\n",
    "number match {\n",
    "    case 1 => println(\"One\")\n",
    "    case 2 => println(\"Two\")\n",
    "    case 3 => println(\"Three\")\n",
    "    case _ => println(\"Something else\")\n",
    " } "
   ]
  },
  {
   "cell_type": "code",
   "execution_count": 22,
   "metadata": {
    "collapsed": false
   },
   "outputs": [
    {
     "name": "stdout",
     "output_type": "stream",
     "text": [
      "1\n",
      "4\n",
      "9\n",
      "16\n"
     ]
    }
   ],
   "source": [
    "// For loops\n",
    "for (x <- 1 to 4) {\n",
    "        val squared = x * x\n",
    "        println(squared)\n",
    "}        "
   ]
  },
  {
   "cell_type": "code",
   "execution_count": 23,
   "metadata": {
    "collapsed": false
   },
   "outputs": [
    {
     "name": "stdout",
     "output_type": "stream",
     "text": [
      "10\n",
      "9\n",
      "8\n",
      "7\n",
      "6\n",
      "5\n",
      "4\n",
      "3\n",
      "2\n",
      "1\n",
      "0\n"
     ]
    }
   ],
   "source": [
    "// While loops\n",
    "var x = 10                                      //> x  : Int = 10\n",
    "while (x >= 0) {\n",
    "    println(x)\n",
    "    x -= 1\n",
    "}      "
   ]
  },
  {
   "cell_type": "code",
   "execution_count": 24,
   "metadata": {
    "collapsed": false,
    "scrolled": true
   },
   "outputs": [
    {
     "name": "stdout",
     "output_type": "stream",
     "text": [
      "0\n",
      "1\n",
      "2\n",
      "3\n",
      "4\n",
      "5\n",
      "6\n",
      "7\n",
      "8\n",
      "9\n",
      "10\n"
     ]
    }
   ],
   "source": [
    "x = 0\n",
    "do { println(x); x+=1 } while (x <= 10)"
   ]
  },
  {
   "cell_type": "code",
   "execution_count": 25,
   "metadata": {
    "collapsed": false
   },
   "outputs": [
    {
     "name": "stdout",
     "output_type": "stream",
     "text": [
      "30\n"
     ]
    }
   ],
   "source": [
    "// Expressions\n",
    "// \"Returns\" the final value in a block automatically\n",
    "   \n",
    "{val x = 10; x + 20}                           //> res0: Int = 30\n",
    "println({val x = 10; x + 20})"
   ]
  },
  {
   "cell_type": "code",
   "execution_count": 26,
   "metadata": {
    "collapsed": true
   },
   "outputs": [],
   "source": [
    "// Functions\n",
    "// Format is def <function name>(parameter name: type...) : return type = { expression }\n",
    "// Don't forget the = before the expression!\n",
    "def squareIt(x: Int) : Int = {\n",
    "    x * x\n",
    "}                                               //> squareIt: (x: Int)Int\n",
    "  \n",
    "def cubeIt(x: Int): Int = {x * x * x}"
   ]
  },
  {
   "cell_type": "code",
   "execution_count": 27,
   "metadata": {
    "collapsed": false
   },
   "outputs": [
    {
     "name": "stdout",
     "output_type": "stream",
     "text": [
      "4\n"
     ]
    }
   ],
   "source": [
    "println(squareIt(2))"
   ]
  },
  {
   "cell_type": "code",
   "execution_count": 28,
   "metadata": {
    "collapsed": false
   },
   "outputs": [
    {
     "name": "stdout",
     "output_type": "stream",
     "text": [
      "8\n"
     ]
    }
   ],
   "source": [
    "println(cubeIt(2))"
   ]
  },
  {
   "cell_type": "code",
   "execution_count": 29,
   "metadata": {
    "collapsed": false
   },
   "outputs": [
    {
     "name": "stdout",
     "output_type": "stream",
     "text": [
      "8\n"
     ]
    }
   ],
   "source": [
    "// Functions can take other functions as parameters\n",
    "def transformInt(x: Int, f: Int => Int) : Int = {\n",
    "    f(x)\n",
    "}                                               //> transformInt: (x: Int, f: Int => Int)Int\n",
    "  \n",
    "val result = transformInt(2, cubeIt)            //> result  : Int = 8\n",
    "println (result)"
   ]
  },
  {
   "cell_type": "code",
   "execution_count": 32,
   "metadata": {
    "collapsed": false
   },
   "outputs": [
    {
     "name": "stdout",
     "output_type": "stream",
     "text": [
      "27\n"
     ]
    }
   ],
   "source": [
    "// \"Lambda functions\", \"anonymous functions\", \"function literals\"\n",
    "// You can declare functions inline without even giving them a name\n",
    "// This happens a lot in Spark and it's very important!\n",
    "val result1 = transformInt(3, x => x * x * x)                 //> res0: Int = 27\n",
    "transformInt(10, x => x / 2)                    //> res1: Int = 5\n",
    "transformInt(2, x => {val y = x * 2; y * y})    //> res2: Int = 16\n",
    "println(result1)"
   ]
  },
  {
   "cell_type": "code",
   "execution_count": 33,
   "metadata": {
    "collapsed": false
   },
   "outputs": [
    {
     "name": "stdout",
     "output_type": "stream",
     "text": [
      "(Picard,Enterprise-D,NCC-1701-D)\n"
     ]
    }
   ],
   "source": [
    "// Data structures\n",
    "// Tuples (Also really common with Spark!!)\n",
    "// Immutable lists\n",
    "// Often thought of as database fields, or columns.\n",
    "// Useful for passing around entire rows of data.\n",
    " \n",
    "val captainStuff = (\"Picard\", \"Enterprise-D\", \"NCC-1701-D\")\n",
    "println(captainStuff)"
   ]
  },
  {
   "cell_type": "code",
   "execution_count": 34,
   "metadata": {
    "collapsed": false
   },
   "outputs": [
    {
     "name": "stdout",
     "output_type": "stream",
     "text": [
      "Picard\n"
     ]
    }
   ],
   "source": [
    "// You refer to individual fields with their ONE-BASED index:\n",
    "println(captainStuff._1)"
   ]
  },
  {
   "cell_type": "code",
   "execution_count": 35,
   "metadata": {
    "collapsed": false
   },
   "outputs": [
    {
     "name": "stdout",
     "output_type": "stream",
     "text": [
      "Enterprise-D\n"
     ]
    }
   ],
   "source": [
    "println(captainStuff._2)"
   ]
  },
  {
   "cell_type": "code",
   "execution_count": 36,
   "metadata": {
    "collapsed": false
   },
   "outputs": [
    {
     "name": "stdout",
     "output_type": "stream",
     "text": [
      "NCC-1701-D\n"
     ]
    }
   ],
   "source": [
    "println(captainStuff._3)"
   ]
  },
  {
   "cell_type": "code",
   "execution_count": 37,
   "metadata": {
    "collapsed": false
   },
   "outputs": [
    {
     "name": "stdout",
     "output_type": "stream",
     "text": [
      "Enterprise-D\n"
     ]
    }
   ],
   "source": [
    "// You can create a key/value pair with ->\n",
    "val picardsShip = \"Picard\" -> \"Enterprise-D\"     //> picardsShip  : (String, String) = (Picard,Enterprise-D)\n",
    "println(picardsShip._2)  "
   ]
  },
  {
   "cell_type": "code",
   "execution_count": 38,
   "metadata": {
    "collapsed": true
   },
   "outputs": [],
   "source": [
    "// You can mix different types in a tuple\n",
    " val aBunchOfStuff = (\"Kirk\", 1964, true)         //> aBunchOfStuff"
   ]
  },
  {
   "cell_type": "code",
   "execution_count": 39,
   "metadata": {
    "collapsed": false
   },
   "outputs": [
    {
     "name": "stdout",
     "output_type": "stream",
     "text": [
      "Defiant\n"
     ]
    }
   ],
   "source": [
    "// Lists\n",
    "// Like a tuple, but it's an actual Collection object that has more functionality.\n",
    "// It's a singly-linked list under the hood.\n",
    " \n",
    "val shipList = List(\"Enterprise\", \"Defiant\", \"Voyager\", \"Deep Space Nine\")\n",
    "                                                  //> shipList  : List[String] = List(Enterprise, Defiant, Voyager, Deep Space Nin\n",
    "                                                  //| e)\n",
    " \n",
    "// Access individual members using () with ZERO-BASED index (confused yet?)\n",
    "println(shipList(1)) "
   ]
  },
  {
   "cell_type": "code",
   "execution_count": 40,
   "metadata": {
    "collapsed": false
   },
   "outputs": [
    {
     "name": "stdout",
     "output_type": "stream",
     "text": [
      "Enterprise\n"
     ]
    }
   ],
   "source": [
    "// head and tail give you the first item, and the remaining ones.\n",
    "println(shipList.head) "
   ]
  },
  {
   "cell_type": "code",
   "execution_count": 41,
   "metadata": {
    "collapsed": false
   },
   "outputs": [
    {
     "name": "stdout",
     "output_type": "stream",
     "text": [
      "List(Defiant, Voyager, Deep Space Nine)\n"
     ]
    }
   ],
   "source": [
    "println(shipList.tail)                           //> List(Defiant, Voyager, Deep Space Nine)"
   ]
  },
  {
   "cell_type": "code",
   "execution_count": 42,
   "metadata": {
    "collapsed": false
   },
   "outputs": [
    {
     "name": "stdout",
     "output_type": "stream",
     "text": [
      "Enterprise\n",
      "Defiant\n",
      "Voyager\n",
      "Deep Space Nine\n"
     ]
    }
   ],
   "source": [
    "// Iterating though a list\n",
    "for (ship <- shipList) {println(ship)}"
   ]
  },
  {
   "cell_type": "code",
   "execution_count": 43,
   "metadata": {
    "collapsed": false
   },
   "outputs": [
    {
     "name": "stdout",
     "output_type": "stream",
     "text": [
      "esirpretnE\n",
      "tnaifeD\n",
      "regayoV\n",
      "eniN ecapS peeD\n",
      "15\n"
     ]
    }
   ],
   "source": [
    "// Let's apply a function literal to a list! map() can be used to apply any function to every item in a collection.\n",
    "val backwardShips = shipList.map( (ship: String) => {ship.reverse})\n",
    "                                                 //> backwardShips  : List[String] = List(esirpretnE, tnaifeD, regayoV, eniN eca\n",
    "                                                 //| pS peeD)\n",
    "for (ship <- backwardShips) {println(ship)}      //> esirpretnE\n",
    "                                                 //| tnaifeD\n",
    "                                                 //| regayoV\n",
    "                                                 //| eniN ecapS peeD\n",
    "                                                  \n",
    "// reduce() can be used to combine together all the items in a collection using some function.\n",
    "val numberList = List(1, 2, 3, 4, 5)              //> numberList  : List[Int] = List(1, 2, 3, 4, 5)\n",
    "val sum = numberList.reduce( (x: Int, y: Int) => x + y)\n",
    "                                                  //> sum  : Int = 15\n",
    "println(sum)                                      //> 15\n"
   ]
  },
  {
   "cell_type": "code",
   "execution_count": 44,
   "metadata": {
    "collapsed": true
   },
   "outputs": [],
   "source": [
    "// filter() can remove stuff you don't want. Here we'll introduce wildcard syntax while we're at it.\n",
    "val iHateFives = numberList.filter( (x: Int) => x != 5)"
   ]
  },
  {
   "cell_type": "code",
   "execution_count": 45,
   "metadata": {
    "collapsed": false
   },
   "outputs": [
    {
     "name": "stdout",
     "output_type": "stream",
     "text": [
      "Voyager\n"
     ]
    }
   ],
   "source": [
    "// filter() can remove stuff you don't want. Here we'll introduce wildcard syntax while we're at it.\n",
    "val iHateFives = numberList.filter( (x: Int) => x != 5)\n",
    "                                                  //> iHateFives  : List[Int] = List(1, 2, 3, 4)\n",
    "val iHateThrees = numberList.filter(_ != 3)       //> iHateThrees  : List[Int] = List(1, 2, 4, 5)\n",
    "\n",
    "// Note that Spark has its own map, reduce, and filter functions that can distribute these operations. But they work the same way!\n",
    "// Also, you understand MapReduce now :)\n",
    "\n",
    "// Concatenating lists\n",
    "val moreNumbers = List(6, 7, 8)                   //> moreNumbers  : List[Int] = List(6, 7, 8)\n",
    "val lotsOfNumbers = numberList ++ moreNumbers     //> lotsOfNumbers  : List[Int] = List(1, 2, 3, 4, 5, 6, 7, 8)\n",
    "\n",
    "// More list fun\n",
    "val reversed = numberList.reverse                 //> reversed  : List[Int] = List(5, 4, 3, 2, 1)\n",
    "val sorted = reversed.sorted                      //> sorted  : List[Int] = List(1, 2, 3, 4, 5)\n",
    "val lotsOfDuplicates = numberList ++ numberList   //> lotsOfDuplicates  : List[Int] = List(1, 2, 3, 4, 5, 1, 2, 3, 4, 5)\n",
    "val distinctValues = lotsOfDuplicates.distinct    //> distinctValues  : List[Int] = List(1, 2, 3, 4, 5)\n",
    "val maxValue = numberList.max                     //> maxValue  : Int = 5\n",
    "val total = numberList.sum                        //> total  : Int = 15\n",
    "val hasThree = iHateThrees.contains(3)            //> hasThree  : Boolean = false\n",
    "\n",
    "// Maps\n",
    "// Useful for key/value lookups on distinct keys\n",
    "// Like dictionaries in other languages\n",
    "\n",
    "val shipMap = Map(\"Kirk\" -> \"Enterprise\", \"Picard\" -> \"Enterprise-D\", \"Sisko\" -> \"Deep Space Nine\", \"Janeway\" -> \"Voyager\")\n",
    "                                                  //> shipMap  : scala.collection.immutable.Map[String,String] = Map(Kirk -> Ente\n",
    "                                                  //| rprise, Picard -> Enterprise-D, Sisko -> Deep Space Nine, Janeway -> Voyage\n",
    "                                                  //| r)\n",
    "println(shipMap(\"Janeway\"))                       //> Voyager"
   ]
  },
  {
   "cell_type": "code",
   "execution_count": 46,
   "metadata": {
    "collapsed": false
   },
   "outputs": [
    {
     "name": "stdout",
     "output_type": "stream",
     "text": [
      "false\n"
     ]
    }
   ],
   "source": [
    "// Dealing with missing keys\n",
    "println(shipMap.contains(\"Archer\"))"
   ]
  },
  {
   "cell_type": "code",
   "execution_count": 47,
   "metadata": {
    "collapsed": false
   },
   "outputs": [
    {
     "name": "stdout",
     "output_type": "stream",
     "text": [
      "Unknown\n"
     ]
    }
   ],
   "source": [
    "val archersShip = util.Try(shipMap(\"Archer\")) getOrElse \"Unknown\"\n",
    "                                                  //> archersShip  : String = Unknown\n",
    "println(archersShip)"
   ]
  }
 ],
 "metadata": {
  "kernelspec": {
   "display_name": "Spark (Scala 2.11)",
   "language": "scala",
   "name": "spark_scala"
  },
  "language_info": {
   "name": "scala",
   "version": "2.11.8"
  }
 },
 "nbformat": 4,
 "nbformat_minor": 2
}
